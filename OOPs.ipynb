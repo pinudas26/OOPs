{
  "nbformat": 4,
  "nbformat_minor": 0,
  "metadata": {
    "colab": {
      "provenance": []
    },
    "kernelspec": {
      "name": "python3",
      "display_name": "Python 3"
    },
    "language_info": {
      "name": "python"
    }
  },
  "cells": [
    {
      "cell_type": "markdown",
      "source": [
        "#Python OOPs Questions\n",
        "\n"
      ],
      "metadata": {
        "id": "fNgRwNTCO_2-"
      }
    },
    {
      "cell_type": "markdown",
      "source": [
        "1. What is Object-Oriented Programming (OOP)?\n",
        "   - Object-Oriented Programming or OOPs refers to languages that use objects in programming. Object-oriented programming aims to implement real-world entities like inheritance, hiding, polymorphism, etc in programming. The main aim of OOP is to bind together the data and the functions that operate on them so that no other part of the code can access this data except that function.\n",
        "2. What is a class in OOP?\n",
        "   - In object-oriented programming (OOP), a class is a blueprint for a group of objects that share similar properties and behaviors. Classes are used to organize data and make it reusable.\n",
        "   - Examples of classes\n",
        "     - Car: A class that has properties like speed limit, mileage, and\n",
        "       number of wheels\n",
        "     - Dog: A class that has properties like name, breed, and age\n",
        "3. What is an object in OOP?\n",
        "   - An object is an instance of a class, created by calling the class like a function. The object contains the data and behavior defined by the class, as well as a unique identity.\n",
        "4. What is the difference between abstraction and encapsulation?\n",
        "   - Abstraction focuses on what an object does, while encapsulation focuses on how it does it. Both are techniques that help programmers organize code.\n",
        "   - Abstraction hides implementation details, but encapsulation controls access to data and methods.\n",
        "   - Abstraction is Design-level process, but encapsulation is implementation level.\n",
        "   - Abstraction promotes code reusability, butencapsulation enhances code modularity.\n",
        "   - Example of Abstraction: A car's steering wheel and pedals abstract the driving mechanisms\n",
        "   Example of Encapsulation: A car's engine's internal components are encapsulated.\n",
        "5. What are dunder methods in Python?\n",
        "   - Dunder methods, also known as magic methods, are special methods in Python that have double underscores (__) at the beginning and end of their names. They are used to customize the behavior of objects and classes.\n",
        "6. Explain the concept of inheritance in OOP?\n",
        "   - In object-oriented programming (OOP), inheritance is the process of deriving new classes from existing ones. It's a fundamental concept that helps make code more efficient and modular.\n",
        "   - How inheritance works:\n",
        "     - A new class, called a subclass or child class, inherits properties and methods from an existing class, called a superclass or parent class.\n",
        "     - The subclass can add new features or override existing ones.\n",
        "     - This creates a hierarchy of classes, where the subclass is related to the superclass.\n",
        "7. What is polymorphism in OOP?\n",
        "   - In Object-Oriented Programming (OOP), polymorphism refers to the ability of an object to take on multiple forms, meaning a single variable or function name can be used to reference different types of objects depending on the context, allowing for code reusability and flexibility by performing different actions based on the object's actual type at runtime; essentially, it's the concept of \"one interface, multiple implementations.\".\n",
        "8. How is encapsulation achieved in Python?\n",
        "   - Encapsulation in Python is achieved through access modifiers, naming conventions, and programming practices.\n",
        "     - Access modifiers\n",
        "       - Public\n",
        "         - The default access modifier for class members, which means they can be accessed from inside or outside of a class\n",
        "       - Private\n",
        "         - Accessible only within a class, and denoted by a double underscore prefix before their name\n",
        "       - Protected\n",
        "         - Accessible within a class and their subclasses, and denoted by a single underscore prefix before the name\n",
        "     - Naming conventions\n",
        "       - Using a double underscore in front of a variable or function name hides them when accessing them from outside of the class\n",
        "     - Programming practices\n",
        "       - Python's approach to encapsulation is more open than other languages, such as C++ or Java, which use keywords like public, private, or protected.\n",
        "       - Python's fundamental principle is “We are all adults here”.\n",
        "9. What is a constructor in Python?\n",
        "   - In Python, a constructor is a special method that is called automatically when an object is created from a class. Its main role is to initialize the object by setting up its attributes or state.\n",
        "10. What are class and static methods in Python?\n",
        "    - A class method can access or modify the class state while a static method can't access or modify it. In general, static methods know nothing about the class state. They are utility-type methods that take some parameters and work upon those parameters. On the other hand class methods must have class as a parameter.\n",
        "11. What is method overloading in Python?\n",
        "    - When two or more methods share the same name but differ in the number or type of parameters, or both, they are referred to as overloaded methods, and this concept is known as method overloading.\n",
        "    - Unlike other programming languages like Java, C++, and C#, Python does not support the feature of method overloading by default. However, there are alternative ways to achieve it.\n",
        "    - Example:\n",
        "    "
      ],
      "metadata": {
        "id": "ia7CD36APe96"
      }
    },
    {
      "cell_type": "code",
      "source": [
        "class example:\n",
        "   def add(self, a = None, b = None, c = None):\n",
        "      x=0\n",
        "      if a !=None and b != None and c != None:\n",
        "         x = a+b+c\n",
        "      elif a !=None and b != None and c == None:\n",
        "         x = a+b\n",
        "      return x\n",
        "\n",
        "obj = example()\n",
        "\n",
        "print (obj.add(10,20,30))\n",
        "print (obj.add(10,20))"
      ],
      "metadata": {
        "colab": {
          "base_uri": "https://localhost:8080/"
        },
        "id": "FTZzvo87VuSU",
        "outputId": "5cc03a86-df73-4846-ad49-0281dc8084a3"
      },
      "execution_count": null,
      "outputs": [
        {
          "output_type": "stream",
          "name": "stdout",
          "text": [
            "60\n",
            "30\n"
          ]
        }
      ]
    },
    {
      "cell_type": "markdown",
      "source": [
        "  12. What is method overriding in OOP?\n",
        "      - Whatever the Parent has by default available to the Child through inheritance, if the Child is not satisfied with Parent class method implementation then Child is allow to redefine that Parent class method in Child class in its own way this process is called overriding.\n",
        "      - Method overriding refers to when a piece of code contains two or more methods with the same name, but each one performs a different task. Taking the literal sense of the name, this means that one approach must take precedence over another. This idea refers to redefining a base class method with the same method signature in a derived class.\n",
        "      ![image.png](data:image/png;base64,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)\n",
        "      - In overriding method resolution is always takes care by JVM based on runtime object hence overriding is also considered as runtime polymorphism or dynamic polymorphism or late binding.\n",
        "      - Example:"
      ],
      "metadata": {
        "id": "u93u1wAmWKsj"
      }
    },
    {
      "cell_type": "code",
      "execution_count": null,
      "metadata": {
        "id": "bRB5LgYcO29k"
      },
      "outputs": [],
      "source": [
        "class Parent {\n",
        "\tpublic void method1() {\n",
        "\t\tSystem.out.println(\"Parent Method 1\");\n",
        "\t}\n",
        "\tpublic void method2() {\n",
        "\t\tSystem.out.println(\"Parent Method 2\");\n",
        "\t}\n",
        "}\n",
        "class Child extends Parent\t\t\t\t\t  {\n",
        "\tpublic void method1() {\n",
        "\t\tSystem.out.println(\"Child Method 1\");\n",
        "\t}\n",
        "}\n",
        "class Main {\n",
        "\tpublic static void main(String[] args) {\n",
        "\t\tParent p=new Parent();\n",
        "\t\tp.method1();//parent method 1\n",
        "\t\tChild c=new Child();\n",
        "\t\tc.method1();//child method 1\n",
        "\t\tParent p1=new Child();\n",
        "\t\tp1.method1();//child method 1\n",
        "\t}\n",
        "}\n",
        "\t{\n",
        "\t\tSystem.out.println(\"Parent Method 1\");\n",
        "\t}\n",
        "\tpublic void method2()\n",
        "\t{\n",
        "\t\tSystem.out.println(\"Parent Method 2\");\n",
        "\t}\n",
        "}\n",
        "class Child extends Parent\n",
        "{\n",
        "\tpublic void method1()\n",
        "\t{\n",
        "\t\tSystem.out.println(\"Child Method 1\");\n",
        "\t}\n",
        "}\n",
        "class Main\n",
        "{\n",
        "\tpublic static void main(String[] args)\n",
        "\t{\n",
        "\t\tParent p=new Parent();\n",
        "\t\tp.method1();//parent method 1\n",
        "\t\tChild c=new Child();\n",
        "\t\tc.method1();//child method 1\n",
        "\t\tParent p1=new Child();\n",
        "\t\tp1.method1();//child method 1\n",
        "\t}\n",
        "}"
      ]
    },
    {
      "cell_type": "markdown",
      "source": [
        "  13. What is a property decorator in Python?\n",
        "      - The decorator is a built-in Python decorator that allows us to turn class methods into properties in a way that's both elegant and user-friendly.\n",
        "  14. Why is polymorphism important in OOP?\n",
        "      - Polymorphism is a core feature of object-oriented programming (OOP) that allows programmers to write more efficient, flexible, and maintainable code. It's also important because it allows programs to be extended and adapted to new requirements without having to rewrite large parts of the code.\n",
        "      - Benefits of polymorphism\n",
        "        - Code reusability: Reuse existing code to save time and avoid redundancy.\n",
        "        - Code readability: Use the same method name for multiple classes, which makes code easier to understand.\n",
        "        - Code maintainability: Make it easier to debug and maintain code.\n",
        "        - Code extensibility: Add new features without having to rewrite the entire program.\n",
        "        - Code scalability: Build on existing code to create more complex programs.\n",
        "  15. What is an abstract class in Python?\n",
        "      - In Python, an abstract class is a class that cannot be instantiated on its own and is designed to be a blueprint for other classes. Abstract classes allow us to define methods that must be implemented by subclasses, ensuring a consistent interface while still allowing the subclasses to provide specific implementations.\n",
        "      - Example:\n",
        "      "
      ],
      "metadata": {
        "id": "4PjzIhrUYRci"
      }
    },
    {
      "cell_type": "code",
      "source": [
        "from abc import ABC, abstractmethod\n",
        "\n",
        "# Define an abstract class\n",
        "class Animal(ABC):\n",
        "\n",
        "    @abstractmethod\n",
        "    def sound(self):\n",
        "        pass  # This is an abstract method, no implementation here.\n",
        "\n",
        "# Concrete subclass of Animal\n",
        "class Dog(Animal):\n",
        "\n",
        "    def sound(self):\n",
        "        return \"Bark\"  # Providing the implementation of the abstract method\n",
        "\n",
        "# Create an instance of Dog\n",
        "dog = Dog()\n",
        "print(dog.sound())"
      ],
      "metadata": {
        "colab": {
          "base_uri": "https://localhost:8080/"
        },
        "id": "TTRMjMSaZjwk",
        "outputId": "8d2d27ba-75f9-4615-ce8d-1080affaca9a"
      },
      "execution_count": null,
      "outputs": [
        {
          "output_type": "stream",
          "name": "stdout",
          "text": [
            "Bark\n"
          ]
        }
      ]
    },
    {
      "cell_type": "markdown",
      "source": [
        "  16. What are the advantages of OOP?\n",
        "      -  We can build the programs from standard working modules that communicate with one another, rather than having to start writing the code from scratch which leads to saving of development time and higher productivity,\n",
        "      - OOP language allows to break the program into the bit-sized problems that can be solved easily (one object at a time).\n",
        "      - The new technology promises greater programmer productivity, better quality of software and lesser maintenance cost.\n",
        "      - OOP systems can be easily upgraded from small to large systems.\n",
        "      - It is possible that multiple instances of objects co-exist without any interference,\n",
        "      - It is very easy to partition the work in a project based on objects.\n",
        "      - It is possible to map the objects in problem domain to those in the program.\n",
        "      - The principle of data hiding helps the programmer to build secure programs which cannot be invaded by the code in other parts of the program.\n",
        "      - By using inheritance, we can eliminate redundant code and extend the use of existing classes.\n",
        "      - Message passing techniques is used for communication between objects which makes the interface descriptions with external systems much simpler.\n",
        "      - The data-centered design approach enables us to capture more details of model in an implementable form.\n",
        " 17. What is the difference between a class variable and an instance variable?\n",
        "     - Class variables are a special type of class attribute, also known as class properties, fields, or data members. They are shared across all instances of a class, regardless of how many instances exist. But, Instance variables are non-static variables that are created when an object of the class is instantiated. They are destroyed when the object is destroyed.\n",
        "     - Class variables are defined within the class but outside of any class methods. Instance variables are defined within class methods, typically the constructor.\n",
        "     - Changes made to the class variable affect all instances. Changes made to the instance variable does not affect all instances.\n",
        " 18. What is multiple inheritance in Python?\n",
        "     - Multiple inheritances are when a child's class is derived from two or more parent classes. For example, you are inheriting some of the features from your father and some from your mother. In this case, we have to write the names of both parent classes inside the brackets of the child class.\n",
        " 19. Explain the purpose of ‘’__str__’ and ‘__repr__’ ‘ methods in Python?\n",
        "     - In Python, the str() and repr() functions are used to obtain string representations of objects. While they may seem similar at first glance, there are some differences in how they behave. Both of the functions can be helpful in debugging or printing useful information about the object.\n",
        "     - Examples:  "
      ],
      "metadata": {
        "id": "mkcS9iUNZozd"
      }
    },
    {
      "cell_type": "code",
      "source": [
        "#str()\n",
        "s = 'Hello, OOPs.'\n",
        "print (str(s))\n",
        "print (str(2.0/11.0))"
      ],
      "metadata": {
        "colab": {
          "base_uri": "https://localhost:8080/"
        },
        "id": "RqjEaUgWbXTa",
        "outputId": "d5b17ee2-5bb1-408a-98cb-9dd23f1de9c9"
      },
      "execution_count": null,
      "outputs": [
        {
          "output_type": "stream",
          "name": "stdout",
          "text": [
            "Hello, OOPs.\n",
            "0.18181818181818182\n"
          ]
        }
      ]
    },
    {
      "cell_type": "code",
      "source": [
        "#repr()\n",
        "s = 'Hello, OOPs.'\n",
        "print (repr(s))\n",
        "print (repr(2.0/11.0))"
      ],
      "metadata": {
        "colab": {
          "base_uri": "https://localhost:8080/"
        },
        "id": "j7JW2I6DbkVX",
        "outputId": "c19079d8-02b8-47c9-f1c4-15b2706ed522"
      },
      "execution_count": null,
      "outputs": [
        {
          "output_type": "stream",
          "name": "stdout",
          "text": [
            "'Hello, OOPs.'\n",
            "0.18181818181818182\n"
          ]
        }
      ]
    },
    {
      "cell_type": "markdown",
      "source": [
        " 20. What is the significance of the ‘super()’ function in Python?\n",
        "     - In Python, the super() function is used to refer to the parent class or superclass. It allows you to call methods defined in the superclass from the subclass, enabling you to extend and customize the functionality inherited from the parent class.\n",
        "     -Example:"
      ],
      "metadata": {
        "id": "hCE3iFt2bvB5"
      }
    },
    {
      "cell_type": "code",
      "source": [
        "class Emp():\n",
        "    def __init__(self, id, name, Add):\n",
        "        self.id = id\n",
        "        self.name = name\n",
        "        self.Add = Add\n",
        "\n",
        "# Class freelancer inherits EMP\n",
        "class Freelance(Emp):\n",
        "    def __init__(self, id, name, Add, Emails):\n",
        "        super().__init__(id, name, Add)\n",
        "        self.Emails = Emails\n",
        "\n",
        "Emp_1 = Freelance(25, \"Nivedita Das\", \"Odisha\" , \"niveditadas116@gmail.com\")\n",
        "print('The ID is:', Emp_1.id)\n",
        "print('The Name is:', Emp_1.name)\n",
        "print('The Address is:', Emp_1.Add)\n",
        "print('The Emails is:', Emp_1.Emails)"
      ],
      "metadata": {
        "colab": {
          "base_uri": "https://localhost:8080/"
        },
        "id": "UmRKL-bocAUK",
        "outputId": "26b7a20b-4a0c-4e2a-f9ed-a62ed6deb256"
      },
      "execution_count": null,
      "outputs": [
        {
          "output_type": "stream",
          "name": "stdout",
          "text": [
            "The ID is: 25\n",
            "The Name is: Nivedita Das\n",
            "The Address is: Odisha\n",
            "The Emails is: niveditadas116@gmail.com\n"
          ]
        }
      ]
    },
    {
      "cell_type": "markdown",
      "source": [
        " 21. What is the significance of the __del__ method in Python?\n",
        "     - In Python, the __del__ method, also known as the destructor method, releases resources when an object is deleted.\n",
        "     - The __del__ method exists to release any resources held by an object when that object is deleted.\n",
        "     - The __del__ is called only by the garbage collector which may call it after an indefinite delay or never.\n",
        "     - Consequently, __del__ method should not be relied on to release resources, such as file descriptors.\n",
        " 22. What is the difference between @staticmethod and @classmethod in Python?\n",
        "     - The @classmethod decorator is a built-in function decorator that is an expression that gets evaluated after your function is defined. The result of that evaluation shadows your function definition. A class method receives the class as an implicit first argument, just like an instance method receives the instance. A @staticmethod does not receive an implicit first argument. A static method is also a method that is bound to the class and not the object of the class. This method can’t access or modify the class state. It is present in a class because it makes sense for the method to be present in class.\n",
        "     - A class method takes cls as the first parameter while a static method needs no specific parameters.\n",
        "     - A class method can access or modify the class state while a static method can’t access or modify it.\n",
        "     - In general, static methods know nothing about the class state. They are utility-type methods that take some parameters and work upon those parameters. On the other hand class methods must have class as a parameter.\n",
        "     - We use @classmethod decorator in python to create a class method and we use @staticmethod decorator to create a static method in python.\n",
        "  23. How does polymorphism work in Python with inheritance?\n",
        "      - Polymorphism is a foundational concept in programming that allows entities like functions, methods or operators to behave differently based on the type of data they are handling. Derived from Greek, the term literally means “many forms”.\n",
        "      - Python’s dynamic typing and duck typing make it inherently polymorphic. Functions, operators and even built-in objects like loops exhibit polymorphic behavior.\n",
        "      "
      ],
      "metadata": {
        "id": "LgTQxIzGcRVa"
      }
    },
    {
      "cell_type": "code",
      "source": [
        "#Polymorphism in Built-in Function\n",
        "print(len(\"Hello\"))\n",
        "print(len([1, 2, 3]))\n",
        "\n",
        "print(max(1, 3, 2))\n",
        "print(max(\"a\", \"z\", \"m\"))"
      ],
      "metadata": {
        "colab": {
          "base_uri": "https://localhost:8080/"
        },
        "id": "I8LKZVold4Zl",
        "outputId": "bce4e34b-9f64-4878-86d1-1777d8537591"
      },
      "execution_count": null,
      "outputs": [
        {
          "output_type": "stream",
          "name": "stdout",
          "text": [
            "5\n",
            "3\n",
            "3\n",
            "z\n"
          ]
        }
      ]
    },
    {
      "cell_type": "markdown",
      "source": [
        " 24. What is method chaining in Python OOP?\n",
        "     - Method chaining is a powerful technique in Python programming that allows us to call multiple methods on an object in a single, continuous line of code. This approach makes the code cleaner, more readable, and often easier to maintain.\n",
        "     - Example:\n",
        "     "
      ],
      "metadata": {
        "id": "mDXNYa8yeAY9"
      }
    },
    {
      "cell_type": "code",
      "source": [
        "text = \" hello, Python! \"\n",
        "result = text.strip().capitalize().replace(\"Python\", \"OOPs\")\n",
        "print(result)"
      ],
      "metadata": {
        "colab": {
          "base_uri": "https://localhost:8080/"
        },
        "id": "p4hA3yIOeYgj",
        "outputId": "937a7b24-a21e-4229-9043-b218c700d8f2"
      },
      "execution_count": null,
      "outputs": [
        {
          "output_type": "stream",
          "name": "stdout",
          "text": [
            "Hello, python!\n"
          ]
        }
      ]
    },
    {
      "cell_type": "markdown",
      "source": [
        " 25. What is the purpose of the __call__ method in Python?\n",
        "     -__call__() is to turn your instances into callable objects. In other words, its purpose is to create objects that you can call as you would call a regular function. Most Python classes don't implement this method. Your custom classes will have it only if you need to use your instances as functions.\n",
        "     - The __call__ method is part of Python build-in methods also called dunder or magic methods because have two prefixes and suffix underscores in the method name. The main idea of __call__ method is to write a class and invoke it like a function. You can refer to it as callable object."
      ],
      "metadata": {
        "id": "gJAtfM4zeljz"
      }
    },
    {
      "cell_type": "markdown",
      "source": [
        "#Practical Questions\n",
        "\n",
        "1.  Create a parent class Animal with a method speak() that prints a generic message. Create a child class Dog that overrides the speak() method to print \"Bark!\"."
      ],
      "metadata": {
        "id": "hIEKP31Le-cg"
      }
    },
    {
      "cell_type": "code",
      "source": [
        "class Animal:\n",
        "    def speak(self):\n",
        "        print(\"This animal makes a sound.\")\n",
        "\n",
        "class Dog(Animal):\n",
        "    def speak(self):  # Overriding the parent class's method\n",
        "        print(\"Barks!\")\n",
        "\n",
        "dog = Dog()\n",
        "dog.speak()"
      ],
      "metadata": {
        "colab": {
          "base_uri": "https://localhost:8080/"
        },
        "id": "ysESaFctfcI7",
        "outputId": "b1f4d0f1-f831-4aa7-d1cc-18619194adb5"
      },
      "execution_count": null,
      "outputs": [
        {
          "output_type": "stream",
          "name": "stdout",
          "text": [
            "Barks!\n"
          ]
        }
      ]
    },
    {
      "cell_type": "markdown",
      "source": [
        "2. Write a program to create an abstract class Shape with a method area(). Derive classes Circle and Rectangle from it and implement the area() method in both."
      ],
      "metadata": {
        "id": "zD3oywrpf-m-"
      }
    },
    {
      "cell_type": "code",
      "source": [
        "from abc import ABC, abstractmethod\n",
        "\n",
        "class Shape(ABC):\n",
        "    @abstractmethod\n",
        "    def area(self):\n",
        "        pass\n",
        "\n",
        "class Rectangle(Shape):\n",
        "    def area(self):\n",
        "        return 10 * 20\n",
        "\n",
        "class Circle(Shape):\n",
        "    def area(self):\n",
        "        return 3.14 * 5 * 5\n",
        "\n",
        "rectangle = Rectangle()\n",
        "print(\"The area of rectangle is:\", rectangle.area())\n",
        "\n",
        "circle = Circle()\n",
        "print(\"The area of circle is:\", circle.area())\n",
        "\n"
      ],
      "metadata": {
        "colab": {
          "base_uri": "https://localhost:8080/"
        },
        "id": "rzrPHnJPgEwN",
        "outputId": "268b19d1-d42a-4c81-bfe5-e6b6295bb0ba"
      },
      "execution_count": null,
      "outputs": [
        {
          "output_type": "stream",
          "name": "stdout",
          "text": [
            "The area of rectangle is: 200\n",
            "The area of circle is: 78.5\n"
          ]
        }
      ]
    },
    {
      "cell_type": "markdown",
      "source": [
        "3.  Implement a multi-level inheritance scenario where a class Vehicle has an attribute type. Derive a class Car and further derive a class ElectricCar that adds a battery attribute."
      ],
      "metadata": {
        "id": "iusk60pyhaPK"
      }
    },
    {
      "cell_type": "code",
      "source": [
        "// Vehicle.java\n",
        "// Parent class Vehicle\n",
        "\n",
        "// Declare the abstract class Vehicle\n",
        "public abstract class Vehicle {\n",
        "\n",
        "    // Private instance variable for the make of the vehicle\n",
        "    private String make;\n",
        "\n",
        "    // Private instance variable for the model of the vehicle\n",
        "    private String model;\n",
        "\n",
        "    // Private instance variable for the year of the vehicle\n",
        "    private int year;\n",
        "\n",
        "    // Private instance variable for the fuel type of the vehicle\n",
        "    private String fuelType;\n",
        "\n",
        "    // Private instance variable for the fuel efficiency of the vehicle\n",
        "    private double fuelEfficiency;\n",
        "\n",
        "    // Constructor for the Vehicle class, taking make, model, year, fuel type, and fuel efficiency as parameters\n",
        "    public Vehicle(String make, String model, int year, String fuelType, double fuelEfficiency) {\n",
        "        // Initialize the make instance variable\n",
        "        this.make = make;\n",
        "        // Initialize the model instance variable\n",
        "        this.model = model;\n",
        "        // Initialize the year instance variable\n",
        "        this.year = year;\n",
        "        // Initialize the fuelType instance variable\n",
        "        this.fuelType = fuelType;\n",
        "        // Initialize the fuelEfficiency instance variable\n",
        "        this.fuelEfficiency = fuelEfficiency;\n",
        "    }\n",
        "\n",
        "    // Public method to get the make of the vehicle\n",
        "    public String getMake() {\n",
        "        return make;\n",
        "    }\n",
        "\n",
        "    // Public method to get the model of the vehicle\n",
        "    public String getModel() {\n",
        "        return model;\n",
        "    }\n",
        "\n",
        "    // Public method to get the year of the vehicle\n",
        "    public int getYear() {\n",
        "        return year;\n",
        "    }\n",
        "\n",
        "    // Public method to get the fuel type of the vehicle\n",
        "    public String getFuelType() {\n",
        "        return fuelType;\n",
        "    }\n",
        "\n",
        "    // Public method to get the fuel efficiency of the vehicle\n",
        "    public double getFuelEfficiency() {\n",
        "        return fuelEfficiency;\n",
        "    }\n",
        "\n",
        "    // Abstract method to calculate the fuel efficiency, to be implemented by subclasses\n",
        "    public abstract double calculateFuelEfficiency();\n",
        "\n",
        "    // Abstract method to calculate the distance traveled, to be implemented by subclasses\n",
        "    public abstract double calculateDistanceTraveled();\n",
        "\n",
        "    // Abstract method to get the maximum speed, to be implemented by subclasses\n",
        "    public abstract double getMaxSpeed();\n",
        "}\n",
        "\n",
        "\n"
      ],
      "metadata": {
        "colab": {
          "base_uri": "https://localhost:8080/",
          "height": 106
        },
        "id": "q1JbI0mWhfrr",
        "outputId": "486a5047-7d0d-4e89-f135-03b6f222df5d"
      },
      "execution_count": null,
      "outputs": [
        {
          "output_type": "error",
          "ename": "SyntaxError",
          "evalue": "invalid syntax (<ipython-input-31-4f41c373f3b7>, line 1)",
          "traceback": [
            "\u001b[0;36m  File \u001b[0;32m\"<ipython-input-31-4f41c373f3b7>\"\u001b[0;36m, line \u001b[0;32m1\u001b[0m\n\u001b[0;31m    // Vehicle.java\u001b[0m\n\u001b[0m    ^\u001b[0m\n\u001b[0;31mSyntaxError\u001b[0m\u001b[0;31m:\u001b[0m invalid syntax\n"
          ]
        }
      ]
    },
    {
      "cell_type": "markdown",
      "source": [
        "4. Demonstrate polymorphism by creating a base class Bird with a method fly(). Create two derived classes Sparrow and Penguin that override the fly() method.\n"
      ],
      "metadata": {
        "id": "wFtSC2G0o8zH"
      }
    },
    {
      "cell_type": "code",
      "source": [
        "class Bird:\n",
        "    def fly(self):\n",
        "        print(\"I am flying!\")\n",
        "\n",
        "class Sparrow(Bird):\n",
        "    def fly(self):\n",
        "        print(\"I am a sparrow, and I can fly high!\")\n",
        "\n",
        "class Penguin(Bird):\n",
        "    def fly(self):\n",
        "        print(\"Penguins cannot fly, but I can swim!\")\n",
        "\n",
        "# Demonstrating polymorphism\n",
        "sparrow = Sparrow()\n",
        "penguin = Penguin()\n",
        "bird = Bird()\n",
        "\n",
        "sparrow.fly()\n",
        "penguin.fly()\n",
        "bird.fly()"
      ],
      "metadata": {
        "colab": {
          "base_uri": "https://localhost:8080/"
        },
        "id": "IbswTotppBZ3",
        "outputId": "29a7ac27-9f6e-4f92-da41-768e069a1044"
      },
      "execution_count": null,
      "outputs": [
        {
          "output_type": "stream",
          "name": "stdout",
          "text": [
            "I am a sparrow, and I can fly high!\n",
            "Penguins cannot fly, but I can swim!\n",
            "I am flying!\n"
          ]
        }
      ]
    },
    {
      "cell_type": "markdown",
      "source": [
        "5. Write a program to demonstrate encapsulation by creating a class BankAccount with private attributes balance and methods to deposit, withdraw, and check balance."
      ],
      "metadata": {
        "id": "hmPen6MJpWYm"
      }
    },
    {
      "cell_type": "code",
      "source": [
        "# BankAccount class\n",
        "class Bankaccount:\n",
        "    def __init__(self):\n",
        "    print(\"Hi!!\")\n",
        "\n",
        "# Function to deposit amount\n",
        "def deposit(self):\n",
        "        amount = float(input(\"Enter amount to be deposited: \"))\n",
        "        self.balance += amount\n",
        "        print(\"\\n Amount Deposited:\", amount)\n",
        "\n",
        "# Function to withdraw the amount\n",
        "def withdraw(self):\n",
        "        amount = float(input(\"Enter amount to be withdrawn: \"))\n",
        "        if self.balance >= amount:\n",
        "            self.balance -= amount\n",
        "            print(\"\\n You Withdrew:\", amount)\n",
        "        else:\n",
        "            print(\"\\n Insufficient balance  \")\n",
        "\n",
        "# Function to display the amount\n",
        "def display(self):\n",
        "        print(\"\\n Net Available Balance =\", self.balance)\n",
        "\n",
        "# Python program to create Bankaccount class\n",
        "# with both a deposit() and a withdraw() function\n",
        "class Bank_Account:\n",
        "    def __init__(self):\n",
        "        self.balance=0\n",
        "        print(\"Hello!!! Welcome to the Deposit & Withdrawal Machine\")\n",
        "\n",
        "    def deposit(self):\n",
        "        amount=float(input(\"Enter amount to be Deposited: \"))\n",
        "        self.balance += amount\n",
        "        print(\"\\n Amount Deposited:\",amount)\n",
        "\n",
        "    def withdraw(self):\n",
        "        amount = float(input(\"Enter amount to be Withdrawn: \"))\n",
        "        if self.balance>=amount:\n",
        "            self.balance-=amount\n",
        "            print(\"\\n You Withdrew:\", amount)\n",
        "        else:\n",
        "            print(\"\\n Insufficient balance  \")\n",
        "\n",
        "    def display(self):\n",
        "        print(\"\\n Net Available Balance=\",self.balance)\n",
        "\n",
        "# Driver code\n",
        "\n",
        "# creating an object of class\n",
        "s = Bank_Account()\n",
        "\n",
        "# Calling functions with that class object\n",
        "s.deposit()\n",
        "s.withdraw()\n",
        "s.display()"
      ],
      "metadata": {
        "id": "eZUH9ROupaXi"
      },
      "execution_count": null,
      "outputs": []
    },
    {
      "cell_type": "markdown",
      "source": [
        "6. Demonstrate runtime polymorphism using a method play() in a base class Instrument. Derive classes Guitar and Piano that implement their own version of play()."
      ],
      "metadata": {
        "id": "eH-Tzr91il9X"
      }
    },
    {
      "cell_type": "code",
      "source": [
        "class Instrument:\n",
        "    def play(self):\n",
        "        raise NotImplementedError(\"Subclasses must implement this method\")\n",
        "\n",
        "class Guitar(Instrument):\n",
        "    def play(self):\n",
        "        print(\"Playing guitar\")\n",
        "    def pluck(self):\n",
        "        print(\"Plucking a string\")\n",
        "\n",
        "class Piano(Instrument):\n",
        "    def play(self):\n",
        "        print(\"Playing piano\")\n",
        "    def hit(self):\n",
        "        print(\"Hitting a key\")\n",
        "\n",
        "# Demonstrating runtime polymorphism\n",
        "instruments = [Guitar(), Piano()]\n",
        "\n",
        "for instrument in instruments:\n",
        "    instrument.play()"
      ],
      "metadata": {
        "colab": {
          "base_uri": "https://localhost:8080/"
        },
        "id": "N_A93S1IitZ1",
        "outputId": "cacfbec9-a730-4f45-81fb-ec656f217a67"
      },
      "execution_count": null,
      "outputs": [
        {
          "output_type": "stream",
          "name": "stdout",
          "text": [
            "Playing guitar\n",
            "Playing piano\n"
          ]
        }
      ]
    },
    {
      "cell_type": "markdown",
      "source": [
        " 7.  Create a class MathOperations with a class method add_numbers() to add two numbers and a static method subtract_numbers() to subtract two numbers."
      ],
      "metadata": {
        "id": "7tkiU6ftja4K"
      }
    },
    {
      "cell_type": "code",
      "source": [
        "# create a class MathOperation with class method\n",
        "class MathOperations:\n",
        "     @classmethod\n",
        "    def add_numbers(self, a, b):\n",
        "        return a + b\n",
        "     @staticmethod\n",
        "    def subtract_numbers(self, a, b):\n",
        "        return a - b\n",
        "\n",
        "\n",
        "math = MathOperations()\n",
        "print(\"Sum:\", math.add_numbers(5, 3))\n",
        "print(\"Difference:\", math.subtract_numbers(5, 3))\n"
      ],
      "metadata": {
        "colab": {
          "base_uri": "https://localhost:8080/",
          "height": 106
        },
        "id": "iDvDeAALjgMz",
        "outputId": "ac2156e6-167c-4734-ebde-f386859f2d38"
      },
      "execution_count": null,
      "outputs": [
        {
          "output_type": "error",
          "ename": "IndentationError",
          "evalue": "unindent does not match any outer indentation level (<tokenize>, line 4)",
          "traceback": [
            "\u001b[0;36m  File \u001b[0;32m\"<tokenize>\"\u001b[0;36m, line \u001b[0;32m4\u001b[0m\n\u001b[0;31m    def add_numbers(self, a, b):\u001b[0m\n\u001b[0m    ^\u001b[0m\n\u001b[0;31mIndentationError\u001b[0m\u001b[0;31m:\u001b[0m unindent does not match any outer indentation level\n"
          ]
        }
      ]
    },
    {
      "cell_type": "markdown",
      "source": [
        "8.  Implement a class Person with a class method to count the total number of persons created."
      ],
      "metadata": {
        "id": "RlOrhAkJoQ-r"
      }
    },
    {
      "cell_type": "code",
      "source": [
        "class Person:\n",
        "\n",
        "    # this is used to print the number\n",
        "    # of instances of a class\n",
        "    counter = 0\n",
        "\n",
        "    # constructor of geeks class\n",
        "    def __init__(self):\n",
        "\n",
        "        # increment\n",
        "        Person.counter += 1\n",
        "\n",
        "\n",
        "# object or instance of geeks class\n",
        "p1 = Person()\n",
        "p2 = Person()\n",
        "p3 = Person()\n",
        "print(Person.counter)"
      ],
      "metadata": {
        "colab": {
          "base_uri": "https://localhost:8080/"
        },
        "id": "N24AlFSroVoZ",
        "outputId": "3d34bdbb-7765-46f1-a616-8e1f94283b36"
      },
      "execution_count": null,
      "outputs": [
        {
          "output_type": "stream",
          "name": "stdout",
          "text": [
            "3\n"
          ]
        }
      ]
    },
    {
      "cell_type": "markdown",
      "source": [
        " 9.  Write a class Fraction with attributes numerator and denominator. Override the str method to display the fraction as \"numerator/denominator\"."
      ],
      "metadata": {
        "id": "VXRrpiygpGgE"
      }
    },
    {
      "cell_type": "code",
      "source": [
        "from fractions import Fraction\n",
        "\n",
        "print (Fraction(11, 35))\n",
        "# returns Fraction(11, 35)\n",
        "\n",
        "print (Fraction(10, 18))\n",
        "# returns Fraction(5, 9)\n",
        "\n",
        "print (Fraction())\n",
        "# returns Fraction(0, 1)\n",
        "\n",
        "\n",
        "class Fraction:\n",
        "    def __init__(self, numerator, denominator):\n",
        "        self.numerator = numerator\n",
        "        self.denominator = denominator\n",
        "\n",
        "    def __str__(self):\n",
        "        return f\"{self.numerator}/{self.denominator}\""
      ],
      "metadata": {
        "colab": {
          "base_uri": "https://localhost:8080/"
        },
        "id": "jv9VkPJQpSX2",
        "outputId": "3571035d-97ba-4437-f7d5-9516d276bd0e"
      },
      "execution_count": null,
      "outputs": [
        {
          "output_type": "stream",
          "name": "stdout",
          "text": [
            "11/35\n",
            "5/9\n",
            "0\n"
          ]
        }
      ]
    },
    {
      "cell_type": "markdown",
      "source": [
        " 10. Demonstrate operator overloading by creating a class Vector and overriding the add method to add two vectors."
      ],
      "metadata": {
        "id": "jYUMsJnFpr0L"
      }
    },
    {
      "cell_type": "code",
      "source": [
        "class CleverList(list):\n",
        "\n",
        "        def __add__(self, other):\n",
        "            copy = self[:]\n",
        "            for i in range(len(self)):\n",
        "                copy[i] += other[i]\n",
        "            return copy\n",
        "\n",
        "        def __sub__(self, other):\n",
        "            copy = self[:]\n",
        "            for i in range(len(self)):\n",
        "                copy[i] -= other[i]\n",
        "            return copy\n",
        "\n",
        "        def __iadd__(self, other):\n",
        "            for i in range(len(self)):\n",
        "                self[i] += other[i]\n",
        "            return self\n",
        "\n",
        "        def __isub__(self, other):\n",
        "            for i in range(len(self)):\n",
        "                self[i] -= other[i]\n",
        "             return self\n",
        "\n",
        "    a = CleverList([0, 1])\n",
        "    b = CleverList([3, 4])\n",
        "    print('CleverList does vector arith: a, b, a+b, a-b = ', a, b, a+b, a-b)\n",
        "\n",
        "    c = a[:]\n",
        "    print('clone test: e = a[:]: a, e = ', a, c)\n",
        "\n",
        "    c += a\n",
        "    print('OOPS: augmented addition: c += a: a, c = ', a, c)\n",
        "\n",
        "    c -= b\n",
        "    print('OOPS: augmented subtraction: c -= b: b, c, a = ', b, c, a)\n"
      ],
      "metadata": {
        "id": "9JLECulSpw4F"
      },
      "execution_count": null,
      "outputs": []
    },
    {
      "cell_type": "markdown",
      "source": [
        " 11.  Create a class Person with attributes name and age. Add a method greet() that prints \"Hello, my name is {name} and I am {age} years old.\""
      ],
      "metadata": {
        "id": "hjHVJXI2qjeK"
      }
    },
    {
      "cell_type": "code",
      "source": [
        "class Person:\n",
        "  def __init__(self, name, age):\n",
        "    self.name = name\n",
        "    self. age = age\n",
        "  def greet(self):\n",
        "    print(f\"Hello, my name is {self.name} and I am {self. age} years old.\")\n",
        "    Person.display()"
      ],
      "metadata": {
        "id": "16CQpTPPqnVi"
      },
      "execution_count": null,
      "outputs": []
    },
    {
      "cell_type": "markdown",
      "source": [
        " 12. Implement a class Student with attributes name and grades. Create a method average_grade() to compute the average of the grades."
      ],
      "metadata": {
        "id": "pXDN_E7c4BFV"
      }
    },
    {
      "cell_type": "code",
      "source": [
        "class Student:\n",
        "    def __init__(self, name, marks):\n",
        "        self.name = name\n",
        "        self.marks = marks\n",
        "\n",
        "    def average(self):\n",
        "        return sum(self.marks) / len(self.marks)\n",
        "\n",
        "    def grade(self):\n",
        "        average = self.average()\n",
        "        if average >= 90:\n",
        "            return 'A'\n",
        "        elif average >= 80:\n",
        "            return 'B'\n",
        "        elif average >= 70:\n",
        "            return 'C'\n",
        "        elif average >= 60:\n",
        "            return 'D'\n",
        "        else:\n",
        "            return 'F'\n",
        "\n",
        "\n",
        "student = Student(\"Nivedita\", [92, 88, 91])\n",
        "print(f\"{student.name} Grade: {student.grade()}\")\n"
      ],
      "metadata": {
        "colab": {
          "base_uri": "https://localhost:8080/"
        },
        "id": "keQ5LAIe4IEX",
        "outputId": "27603fb0-8309-487e-b071-51294c3f0a89"
      },
      "execution_count": null,
      "outputs": [
        {
          "output_type": "stream",
          "name": "stdout",
          "text": [
            "Nivedita Grade: A\n"
          ]
        }
      ]
    },
    {
      "cell_type": "markdown",
      "source": [
        " 13.  Create a class Rectangle with methods set_dimensions() to set the dimensions and area() to calculate the area."
      ],
      "metadata": {
        "id": "fciq0kmN51MY"
      }
    },
    {
      "cell_type": "code",
      "source": [
        "class Rectangle:\n",
        "    def __init__(self, length=1, width=1):\n",
        "        self.length = length\n",
        "        self.width = width\n",
        "\n",
        "    def set_dimensions(self, length, width):\n",
        "        self.length = length\n",
        "        self.width = width\n",
        "\n",
        "    def area(self):\n",
        "        return self.length * self.width\n",
        "\n",
        "\n",
        "rect = Rectangle()\n",
        "print(\"Default area:\", rect.area())\n",
        "rect.set_dimensions(4, 5)\n",
        "print(\"Updated area:\", rect.area())\n"
      ],
      "metadata": {
        "colab": {
          "base_uri": "https://localhost:8080/"
        },
        "id": "fDkCBGQ354sB",
        "outputId": "d7d035d7-6d0d-4680-99c9-b5018829c720"
      },
      "execution_count": null,
      "outputs": [
        {
          "output_type": "stream",
          "name": "stdout",
          "text": [
            "Default area: 1\n",
            "Updated area: 20\n"
          ]
        }
      ]
    },
    {
      "cell_type": "markdown",
      "source": [
        "14. Create a class Employee with a method calculate_salary() that computes the salary based on hours worked and hourly rate. Create a derived class Manager that adds a bonus to the salary."
      ],
      "metadata": {
        "id": "JDSWMQE47Qky"
      }
    },
    {
      "cell_type": "code",
      "source": [
        "class Employee:\n",
        "    def __init__(self, name, emp_id, salary, department):\n",
        "        self.name = name\n",
        "        self.id = emp_id\n",
        "        self.salary = salary\n",
        "        self.department = department\n",
        "\n",
        "    def calculate_salary(self, salary, hours_worked):\n",
        "        overtime = 0\n",
        "        if hours_worked > 50:\n",
        "            overtime = hours_worked - 50\n",
        "        self.salary = self.salary + (overtime * (self.salary / 50))\n",
        "\n",
        "    def assign_department(self, emp_department):\n",
        "        self.department = emp_department\n",
        "\n",
        "    def print_employee_details(self):\n",
        "        print(\"\\nName: \", self.name)\n",
        "        print(\"ID: \", self.id)\n",
        "        print(\"Salary: \", self.salary)\n",
        "        print(\"Department: \", self.department)\n",
        "        print(\"----------------------\")\n",
        "\n",
        "\n",
        "employee1 = Employee(\"ADAMS\", \"E7876\", 50000, \"ACCOUNTING\")\n",
        "employee2 = Employee(\"JONES\", \"E7499\", 45000, \"RESEARCH\")\n",
        "employee3 = Employee(\"MARTIN\", \"E7900\", 50000, \"SALES\")\n",
        "employee4 = Employee(\"SMITH\", \"E7698\", 55000, \"OPERATIONS\")\n",
        "\n",
        "print(\"Original Employee Details:\")\n",
        "employee1.print_employee_details()\n",
        "employee2.print_employee_details()\n",
        "employee3.print_employee_details()\n",
        "employee4.print_employee_details()\n",
        "\n",
        "# Change the departments of employee1 and employee4\n",
        "employee1.assign_department(\"OPERATIONS\")\n",
        "employee4.assign_department(\"SALES\")\n",
        "\n",
        "# Now calculate the overtime of the employees who are eligible:\n",
        "employee2.calculate_salary(45000, 52)\n",
        "employee4.calculate_salary(45000, 60)\n",
        "\n",
        "print(\"Updated Employee Details:\")\n",
        "employee1.print_employee_details()\n",
        "employee2.print_employee_details()\n",
        "employee3.print_employee_details()\n",
        "employee4.print_employee_details()\n"
      ],
      "metadata": {
        "colab": {
          "base_uri": "https://localhost:8080/"
        },
        "id": "eUVQrtQP7f4s",
        "outputId": "7cc99b58-b94d-4972-8743-ee30b606d65a"
      },
      "execution_count": null,
      "outputs": [
        {
          "output_type": "stream",
          "name": "stdout",
          "text": [
            "Original Employee Details:\n",
            "\n",
            "Name:  ADAMS\n",
            "ID:  E7876\n",
            "Salary:  50000\n",
            "Department:  ACCOUNTING\n",
            "----------------------\n",
            "\n",
            "Name:  JONES\n",
            "ID:  E7499\n",
            "Salary:  45000\n",
            "Department:  RESEARCH\n",
            "----------------------\n",
            "\n",
            "Name:  MARTIN\n",
            "ID:  E7900\n",
            "Salary:  50000\n",
            "Department:  SALES\n",
            "----------------------\n",
            "\n",
            "Name:  SMITH\n",
            "ID:  E7698\n",
            "Salary:  55000\n",
            "Department:  OPERATIONS\n",
            "----------------------\n",
            "Updated Employee Details:\n",
            "\n",
            "Name:  ADAMS\n",
            "ID:  E7876\n",
            "Salary:  50000\n",
            "Department:  OPERATIONS\n",
            "----------------------\n",
            "\n",
            "Name:  JONES\n",
            "ID:  E7499\n",
            "Salary:  46800.0\n",
            "Department:  RESEARCH\n",
            "----------------------\n",
            "\n",
            "Name:  MARTIN\n",
            "ID:  E7900\n",
            "Salary:  50000\n",
            "Department:  SALES\n",
            "----------------------\n",
            "\n",
            "Name:  SMITH\n",
            "ID:  E7698\n",
            "Salary:  66000.0\n",
            "Department:  SALES\n",
            "----------------------\n"
          ]
        }
      ]
    },
    {
      "cell_type": "markdown",
      "source": [
        " 15. Create a class Product with attributes name, price, and quantity. Implement a method total_price() that calculates the total price of the product."
      ],
      "metadata": {
        "id": "zvYqhB_I7lzl"
      }
    },
    {
      "cell_type": "code",
      "source": [
        "# Define a class called ShoppingCart to represent a shopping cart\n",
        "class ShoppingCart:\n",
        "    # Initialize the shopping cart with an empty list of items\n",
        "    def __init__(self):\n",
        "        self.items = []\n",
        "\n",
        "    # Add an item with a name and quantity to the shopping cart\n",
        "    def add_item(self, item_name, price, qty):\n",
        "        item = (item_name, price, qty)\n",
        "        self.items.append(item)\n",
        "\n",
        "    # Remove an item with a specific name from the shopping cart\n",
        "    def remove_item(self, item_name):\n",
        "        for item in self.items:\n",
        "            if item[0] == item_name:\n",
        "                self.items.remove(item)\n",
        "                break\n",
        "\n",
        "    # Calculate and return the total quantity of items in the shopping cart\n",
        "    def calculate_total(self):\n",
        "        total = 0\n",
        "        for item in self.items:\n",
        "            total += item[1]\n",
        "        return total\n",
        "\n",
        "# Create an instance of the ShoppingCart class\n",
        "cart = ShoppingCart()\n",
        "\n",
        "# Add items to the shopping cart\n",
        "cart.add_item(\"Papaya\", 30, 100)\n",
        "cart.add_item(\"Guava\", 50, 200)\n",
        "cart.add_item(\"Orange\", 20, 150)\n",
        "\n",
        "# Display the current items in the cart and calculate the total quantity\n",
        "print(\"Current Items in Cart:\")\n",
        "for item in cart.items:\n",
        "    print(item[0], \"-\", item[1])\n",
        "\n",
        "total_qty = cart.calculate_total()\n",
        "print(\"Total Quantity:\", total_qty)\n",
        "\n",
        "# Remove an item from the cart, display the updated items, and recalculate the total quantity\n",
        "cart.remove_item(\"Orange\")\n",
        "print(\"\\nUpdated Items in Cart after removing Orange:\")\n",
        "for item in cart.items:\n",
        "    print(item[0], \"-\", item[1])\n",
        "\n",
        "total_qty = cart.calculate_total()\n",
        "print(\"Total Quantity:\", total_qty)\n"
      ],
      "metadata": {
        "colab": {
          "base_uri": "https://localhost:8080/"
        },
        "id": "rQL3fIxz7q65",
        "outputId": "28783aba-cb2d-4906-db9a-648b86077cd3"
      },
      "execution_count": null,
      "outputs": [
        {
          "output_type": "stream",
          "name": "stdout",
          "text": [
            "Current Items in Cart:\n",
            "Papaya - 30\n",
            "Guava - 50\n",
            "Orange - 20\n",
            "Total Quantity: 100\n",
            "\n",
            "Updated Items in Cart after removing Orange:\n",
            "Papaya - 30\n",
            "Guava - 50\n",
            "Total Quantity: 80\n"
          ]
        }
      ]
    },
    {
      "cell_type": "markdown",
      "source": [
        "  16. Create a class Animal with an abstract method sound(). Create two derived classes Cow and Sheep that implement the sound() method."
      ],
      "metadata": {
        "id": "gZ8wPTIk9ksL"
      }
    },
    {
      "cell_type": "code",
      "source": [
        "class Animal:\n",
        "    def sound(self):\n",
        "        pass\n",
        "\n",
        "class Cow(Animal):\n",
        "    def sound(self):\n",
        "        print(\"Moo\")\n",
        "\n",
        "class Sheep(Animal):\n",
        "    def sound(self):\n",
        "        print(\"Baaing\")\n",
        "\n",
        "\n",
        "cow = Cow()\n",
        "sheep = Sheep()\n",
        "\n",
        "cow.sound()\n",
        "sheep.sound()\n"
      ],
      "metadata": {
        "colab": {
          "base_uri": "https://localhost:8080/"
        },
        "id": "pojDWgDo9p5m",
        "outputId": "ec4e9a46-2758-4f4f-bb6f-6b8aec56ab4a"
      },
      "execution_count": null,
      "outputs": [
        {
          "output_type": "stream",
          "name": "stdout",
          "text": [
            "Moo\n",
            "Baaing\n"
          ]
        }
      ]
    },
    {
      "cell_type": "markdown",
      "source": [
        " 17. Create a class Book with attributes title, author, and year_published. Add a method get_book_info() that returns a formatted string with the book's details."
      ],
      "metadata": {
        "id": "lXglG3CW-_bT"
      }
    },
    {
      "cell_type": "code",
      "source": [
        "class Author:\n",
        "    def __init__(self, name):\n",
        "        self.name = name\n",
        "\n",
        "class Book:\n",
        "    def __init__(self, title, author, year_published):\n",
        "        self.title = title\n",
        "        self.author = Author(author)\n",
        "        self.year_published = year_published\n",
        "\n",
        "    def get_book_info(self):\n",
        "        print( f\"Title: {self.title} \\n Author: {self.author.name} \\n Year Published: {self.year_published}\")\n",
        "\n",
        "    def display(self):\n",
        "        print(f\"Book: {self.title}, Author: {self.author.name}\")\n",
        "\n",
        "\n",
        "book = Book(\"Python Programming\", \"John Doe\", 1988)\n",
        "book.get_book_info()"
      ],
      "metadata": {
        "colab": {
          "base_uri": "https://localhost:8080/"
        },
        "id": "GAfnxru-_GRQ",
        "outputId": "9251863a-3973-43c1-f8b2-6061b8a982e4"
      },
      "execution_count": null,
      "outputs": [
        {
          "output_type": "stream",
          "name": "stdout",
          "text": [
            "Title: Python Programming \n",
            " Author: John Doe \n",
            " Year Published: 1988\n"
          ]
        }
      ]
    },
    {
      "cell_type": "markdown",
      "source": [
        " 18. Create a class House with attributes address and price. Create a derived class Mansion that adds an attribute number_of_rooms."
      ],
      "metadata": {
        "id": "gLVMPZ8l_5wv"
      }
    },
    {
      "cell_type": "code",
      "source": [
        "class House:\n",
        "    count = 0\n",
        "\n",
        "    def Mansion(self, address, price):\n",
        "        House.count += 1\n",
        "\n",
        "# Calling Mansion() on an object\n",
        "s1 = Houseclass()\n",
        "s1.Mansion()\n",
        "print(s1.count)\n",
        "\n",
        "# Calling address on one more\n",
        "# object\n",
        "s2 = Houseclass()\n",
        "s2.Mansion()\n",
        "print(s2.count)\n",
        "\n",
        "print(House.count)"
      ],
      "metadata": {
        "id": "X_s5JP17AatK"
      },
      "execution_count": null,
      "outputs": []
    },
    {
      "cell_type": "markdown",
      "source": [],
      "metadata": {
        "id": "zpUSCPtKYMw7"
      }
    }
  ]
}